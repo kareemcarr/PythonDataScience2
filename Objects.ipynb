{
 "cells": [
  {
   "cell_type": "markdown",
   "metadata": {},
   "source": [
    "<font color=#505050 size=3 face='arial black'>\n",
    "<p><font color=#13577F size=5 face='arial black'> Objects </font></p>\n",
    "\n",
    "<p> <font color=#13577F size=3 face='arial black'>Object-oriented programming</font> is a type of programming that allows you to abstract patterns in your code in a way that's even more general than writing functions. Often, the data that we care about comes with certain patterns. For instance, a patient may have many pieces of information associated with them, not just simple information like a social security number or an address, but more complex information like images of scans and doctor's notes. Object-oriented programming is a way of creating a new data type in your program that can encapsulate all these types of information. It's especially useful in your information goes beyond the tyoe of information that can be easily stored in a table. You create a new type that can all a 'patient' and it keeps track of all this information for you.</p>\n",
    "\n",
    "<p>This specialized information often has specialized functions that only make sense to use with this new patient type. Object-oriented programming lets you bundle your functions with your new type. Second, if the action you need to take depends on the subtype of patient, having functions that depend on the object can be really convenient. For instance, imagine patient data are on two completely different websites with completely different formats.\n",
    "\n",
    "The primary benefit of this approach is it's ultimately simpler. It creates simpler code.\n",
    "</p>\n",
    "</font>"
   ]
  },
  {
   "cell_type": "code",
   "execution_count": null,
   "metadata": {
    "collapsed": false
   },
   "outputs": [],
   "source": [
    "name1='John'\n",
    "name2='Felix'\n",
    "name3='Molly'\n",
    "\n",
    "\n",
    "gender1 = 'male'\n",
    "gender2 = 'male'\n",
    "gender3 = 'female'\n",
    "\n",
    "age1 = 32\n",
    "age2 = 5\n",
    "age3 = 22\n",
    "\n",
    "print(\"%s is %s and is %d\" %(name1,gender1,age1))\n",
    "print(\"%s is %s and is %d\" %(name2,gender2,age2))\n",
    "print(\"%s is %s and is %d\" %(name3,gender3,age3))"
   ]
  },
  {
   "cell_type": "code",
   "execution_count": null,
   "metadata": {
    "collapsed": true
   },
   "outputs": [],
   "source": [
    "zip(names,genders,ages)"
   ]
  },
  {
   "cell_type": "code",
   "execution_count": null,
   "metadata": {
    "collapsed": false
   },
   "outputs": [],
   "source": [
    "names  = ['John','Felix','Molly']\n",
    "genders = ['male','male','female']\n",
    "ages = [32,5,22]\n",
    "\n",
    "def summarize(entry):\n",
    "    name, gender, age = entry\n",
    "    print(\"%s is %s and is %d\" %(name,gender,age))\n",
    "    \n",
    "for item in zip(names,genders,ages):\n",
    "    summarize(item)"
   ]
  },
  {
   "cell_type": "code",
   "execution_count": null,
   "metadata": {
    "collapsed": false
   },
   "outputs": [],
   "source": [
    "class patient:\n",
    "    def __init__(self,entry):\n",
    "        self.name, self.gender, self.age = entry\n",
    "    \n",
    "    def summarize(self):\n",
    "        print(\"%s is %s and is %d\" %(self.name,self.gender,self.age))\n",
    "    \n",
    "patients=[]\n",
    "for item in zip(names,genders,ages):\n",
    "    patients.append(patient(item))"
   ]
  },
  {
   "cell_type": "code",
   "execution_count": null,
   "metadata": {
    "collapsed": false
   },
   "outputs": [],
   "source": [
    "patients[0].summarize()"
   ]
  },
  {
   "cell_type": "code",
   "execution_count": null,
   "metadata": {
    "collapsed": false
   },
   "outputs": [],
   "source": [
    "patients[0].name"
   ]
  },
  {
   "cell_type": "code",
   "execution_count": null,
   "metadata": {
    "collapsed": false
   },
   "outputs": [],
   "source": [
    "patients[0].age"
   ]
  },
  {
   "cell_type": "markdown",
   "metadata": {},
   "source": [
    "<p><font color=#13577F size=5 face='arial black'> Exercises </font></p>"
   ]
  },
  {
   "cell_type": "markdown",
   "metadata": {},
   "source": [
    "<font color=#505050 size=3 face='arial black'>\n",
    "<p>Try to understand the following code and apply it to the next question.</p>\n",
    "</font>"
   ]
  },
  {
   "cell_type": "code",
   "execution_count": null,
   "metadata": {
    "collapsed": false
   },
   "outputs": [],
   "source": [
    "letter = 'b'\n",
    "\n",
    "if letter=='a':\n",
    "   print('alpha')\n",
    "elif letter=='b':\n",
    "   print('beta')\n",
    "elif letter=='c':\n",
    "   print('gamma')\n",
    "else:\n",
    "   print('omega!')"
   ]
  },
  {
   "cell_type": "markdown",
   "metadata": {},
   "source": [
    "<font color=#505050 size=3 face='arial black'>\n",
    "<p>Make a class called 'pet'. The initialization should have a variable that stores what kind of pet it is and another variable that requires the name of pet as well. Write a function called legs. If the pet type is dog return 4. If the pet type is cat return 4. If the pet type is bird return 2. If the pet type is snake return 0. If the pet type is none of these return 'unknown'! Write your own summary function that gives information about the pet in a nice human readable form. </p>\n",
    "</font>"
   ]
  },
  {
   "cell_type": "code",
   "execution_count": null,
   "metadata": {
    "collapsed": true
   },
   "outputs": [],
   "source": []
  }
 ],
 "metadata": {
  "anaconda-cloud": {},
  "kernelspec": {
   "display_name": "Python [default]",
   "language": "python",
   "name": "python3"
  },
  "language_info": {
   "codemirror_mode": {
    "name": "ipython",
    "version": 3
   },
   "file_extension": ".py",
   "mimetype": "text/x-python",
   "name": "python",
   "nbconvert_exporter": "python",
   "pygments_lexer": "ipython3",
   "version": "3.5.2"
  }
 },
 "nbformat": 4,
 "nbformat_minor": 1
}
